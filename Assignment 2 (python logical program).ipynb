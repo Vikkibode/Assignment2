{
 "cells": [
  {
   "cell_type": "code",
   "execution_count": 2,
   "id": "3564e96b",
   "metadata": {},
   "outputs": [
    {
     "name": "stdout",
     "output_type": "stream",
     "text": [
      "Enter the first number:15\n",
      "Enter the second number:10\n",
      "num_1 is greater than num_2:\n"
     ]
    }
   ],
   "source": [
    "# Write a python program that takes two number as input and prints larger number\n",
    "\n",
    "num_1= int(input(\"Enter the first number:\"))\n",
    "num_2=int(input(\"Enter the second number:\"))\n",
    "\n",
    "if(num_1>num_2):\n",
    "    print(\"num_1 is greater than num_2:\")\n",
    "else:\n",
    "    print(\"num_1 is less than num_2:\")"
   ]
  },
  {
   "cell_type": "code",
   "execution_count": 5,
   "id": "008510c8",
   "metadata": {},
   "outputs": [
    {
     "name": "stdout",
     "output_type": "stream",
     "text": [
      "Enter a month(1-12): 2\n",
      "the season for month: 2 is winter\n"
     ]
    }
   ],
   "source": [
    "# create a python program that ask a user for a month (1-12) and then print corresponding season(\"SPRING\",\"SUMMER\",\"FALL\" OR WINTER\")\n",
    "\n",
    "month=int(input(\"Enter a month(1-12): \"))\n",
    "\n",
    "# define a dictionary to map months to seasons\n",
    "\n",
    "seasons = {1:\"winter\",\n",
    "           2:\"winter\",\n",
    "           3:\"spring\",\n",
    "           4:\"spring\",\n",
    "           5:\"spring\",\n",
    "           6:\"summer\",\n",
    "           7:\"summer\",\n",
    "           8:\"summer\",\n",
    "           9:\"fall\",\n",
    "           10:\"fall\",\n",
    "           11:\"fall\",\n",
    "           12:\"winter\"}\n",
    "\n",
    "# input month is valid between(1 to 12)\n",
    "\n",
    "if(1<= month <=12 ):\n",
    "          # look up the season in the dictionary and print it\n",
    "          \n",
    "     season=seasons[month]\n",
    "     print(\"the season for month:\",month,\"is\",season)\n",
    "          \n",
    "else:\n",
    "     print(\"enter valid month\")"
   ]
  },
  {
   "cell_type": "code",
   "execution_count": 2,
   "id": "de944c26",
   "metadata": {},
   "outputs": [
    {
     "name": "stdout",
     "output_type": "stream",
     "text": [
      "enter the year:2000\n",
      "year is a leap year\n"
     ]
    }
   ],
   "source": [
    "# Write a python program that determines whether a given year is a leap year or not. use the leap year rules mention earlier\n",
    "\n",
    "year= int(input(\"enter the year:\"))\n",
    "\n",
    "if(year%4==0) or(year%400==0):\n",
    "    print(\"year is a leap year\")\n",
    "    \n",
    "else:\n",
    "    print(\"year is not a leap year\")"
   ]
  },
  {
   "cell_type": "code",
   "execution_count": 8,
   "id": "addbb122",
   "metadata": {},
   "outputs": [
    {
     "name": "stdout",
     "output_type": "stream",
     "text": [
      "enter the integer:1\n",
      "positive\n"
     ]
    }
   ],
   "source": [
    "# create a program that takes an integer an input and check if its positive , negative or zero\n",
    "\n",
    "integer = float(input(\"enter the integer:\"))\n",
    "\n",
    "if(0<integer):\n",
    "    print(\"positive\")\n",
    "elif(0==integer):\n",
    "    print(\"zero\")\n",
    "else:\n",
    "    print(\"negative\")"
   ]
  },
  {
   "cell_type": "code",
   "execution_count": 11,
   "id": "f82df273",
   "metadata": {},
   "outputs": [
    {
     "name": "stdout",
     "output_type": "stream",
     "text": [
      "enter the age: 25\n",
      "enter the age(M/F): m\n",
      "you are a old man\n"
     ]
    }
   ],
   "source": [
    "#writev a program that asks the user for their age and gender base on their age and gender print a message like \"you are a young man\n",
    "#\" or 'you are a old women'\n",
    "\n",
    "# here we are using nested if-else\n",
    "\n",
    "age = int(input(\"enter the age: \"))\n",
    "gender=input(\"enter the age(M/F): \").upper()\n",
    "\n",
    "if age<18:\n",
    "    if gender==\"M\":\n",
    "        print(\"you are a young man\")\n",
    "    elif gender==\"F\":\n",
    "        print(\"you are a young women\")\n",
    "        \n",
    "else:\n",
    "    if gender==\"M\":\n",
    "        print(\"you are a old man\")\n",
    "    elif gender==\"F\":\n",
    "         print(\"you are a old women\")\n",
    " "
   ]
  },
  {
   "cell_type": "code",
   "execution_count": 12,
   "id": "ebb6d40a",
   "metadata": {},
   "outputs": [
    {
     "name": "stdout",
     "output_type": "stream",
     "text": [
      "enter the temprature: 25\n",
      "celcius to farhenite conversion is:  77.0\n"
     ]
    }
   ],
   "source": [
    "# create a program that takes a temprature in celcius and convert it to farhenite\n",
    "# temp=float\n",
    "\n",
    "celcius=float(input(\"enter the temprature: \"))\n",
    "\n",
    "# convert celcius to farhenite\n",
    "\n",
    "# multiply by 1.8(or 9/5) and add 32.\n",
    "\n",
    "fahrenite = ( celcius*9/5)+32\n",
    "\n",
    "print(\"celcius to farhenite conversion is: \",fahrenite)"
   ]
  },
  {
   "cell_type": "code",
   "execution_count": 13,
   "id": "da0a1e33",
   "metadata": {},
   "outputs": [
    {
     "name": "stdout",
     "output_type": "stream",
     "text": [
      "enter the weight in pounds: 25\n",
      "calculated shipping cost depends on weight is:  15.0\n"
     ]
    }
   ],
   "source": [
    "# write a python program that calculates shiping cost based on weight of package:\n",
    "\n",
    "#weight<=2 :5 $\n",
    "#2 pounds<weight<=10 : 10 $\n",
    "#weight > 10 pounds : 15 $\n",
    "\n",
    "weight = float(input(\"enter the weight in pounds: \"))\n",
    "\n",
    "if weight<=2:\n",
    "    shipping_cost=5.00\n",
    "elif weight<=10:\n",
    "    shipping_cost=10.00\n",
    "else:\n",
    "    shipping_cost=15.00\n",
    "    \n",
    "print(\"calculated shipping cost depends on weight is: \",shipping_cost)"
   ]
  },
  {
   "cell_type": "code",
   "execution_count": 14,
   "id": "59c0ce6c",
   "metadata": {},
   "outputs": [
    {
     "name": "stdout",
     "output_type": "stream",
     "text": [
      "enter first number: 25\n",
      "enter second number: 20\n",
      "enter third number: 22\n",
      "number in ascending order are:  [20, 22, 25]\n"
     ]
    }
   ],
   "source": [
    "# write a program for ask the user for three numbers and then print it in ascending order\n",
    "\n",
    "# sorted function\n",
    "\n",
    "num1=int(input(\"enter first number: \"))\n",
    "num2=int(input(\"enter second number: \"))\n",
    "num3=int(input(\"enter third number: \"))\n",
    "\n",
    "# sort the number in ascending order\n",
    "\n",
    "sorted_numbers = sorted([num1,num2,num3])\n",
    "\n",
    "print(\"number in ascending order are: \",sorted_numbers)"
   ]
  },
  {
   "cell_type": "code",
   "execution_count": 15,
   "id": "4827c862",
   "metadata": {},
   "outputs": [
    {
     "name": "stdout",
     "output_type": "stream",
     "text": [
      "enter the year2018\n",
      "year is not a leap year\n"
     ]
    }
   ],
   "source": [
    "# wrte a program for determines that checks if a given year is centuary year (ends in 00).if its a centuary year, check if its a leap year\n",
    "\n",
    "year= int(input(\"enter the year:\"))\n",
    "\n",
    "if(year%4==0 and year%100 !=0) or(year%400==0):\n",
    "    print(\"year is a leap year\")\n",
    "    \n",
    "else:\n",
    "    print(\"year is not a leap year\")"
   ]
  },
  {
   "cell_type": "code",
   "execution_count": 1,
   "id": "2048644f",
   "metadata": {},
   "outputs": [
    {
     "name": "stdout",
     "output_type": "stream",
     "text": [
      "enter the number : 25\n",
      "number is odd\n"
     ]
    }
   ],
   "source": [
    "# WRITE A PROGRAMME FOR EVEN OR ODD NUMBER\n",
    "\n",
    "num = int(input(\"enter the number : \"))\n",
    "\n",
    "if num%2==0:\n",
    "    print(\"number is even\")\n",
    "else:\n",
    "    print(\"number is odd\")\n"
   ]
  },
  {
   "cell_type": "code",
   "execution_count": null,
   "id": "da65b04e",
   "metadata": {},
   "outputs": [],
   "source": []
  }
 ],
 "metadata": {
  "kernelspec": {
   "display_name": "Python 3 (ipykernel)",
   "language": "python",
   "name": "python3"
  },
  "language_info": {
   "codemirror_mode": {
    "name": "ipython",
    "version": 3
   },
   "file_extension": ".py",
   "mimetype": "text/x-python",
   "name": "python",
   "nbconvert_exporter": "python",
   "pygments_lexer": "ipython3",
   "version": "3.11.4"
  }
 },
 "nbformat": 4,
 "nbformat_minor": 5
}
